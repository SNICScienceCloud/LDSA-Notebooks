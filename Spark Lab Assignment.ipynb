{
 "cells": [
  {
   "cell_type": "markdown",
   "metadata": {
    "deletable": true,
    "editable": true
   },
   "source": [
    "# Spark Lab Assignment\n",
    "\n",
    "## Instructions \n",
    "The purpose of this assignment is to develop some basic Spark development skills. The assignment is composed by two mandatory tasks and one challenge. Only PhD students are required to go through the challenge part. However, completing the challenges will improve the final grade for the Master students too. \n",
    "\n",
    "**Warning:** all of the tasks **must** be solved using the Spark RDD API, in order to distribute the computations in the Spark workers.\n",
    "\n",
    "## Task 1: DNA G+C precentage\n",
    "DNA is a molecule that carries genetic information used in the growth, development, functioning and reproduction of all known living organisms. The DNA information is coded in a language of 4 bases: cytosine (C), guanine (G), adenine (A), thymine (T). The percentage of G+C bases in a DNA sequence has important biological mening (wikipedia: https://goo.gl/kCLvDp), hence it is important to be able to compute it for long DNA sequences.\n",
    "\n",
    "### Goal\n",
    "Given an input DNA sequence, represented as a text file: `data/dna.txt`, compute the percentage of `g` + `c` occurrences into it. An example follows:\n",
    "\n",
    "**Input file:**\n",
    "```\n",
    "atcg\n",
    "ccgg\n",
    "ttat\n",
    "```\n",
    "**result:** \n",
    "$$\\frac{C_{count} + G_{count}}{C_{count} + G_{count} + A_{count} + T_{count}} = \\frac{6}{12} = 0.5$$\n",
    "\n",
    "**Tip 1:** when you load an input file as an RDD, each line will be loaded into distinct string RDD record. In Scala you can count the occurrences of a certain character in a string as it follows:"
   ]
  },
  {
   "cell_type": "code",
   "execution_count": 3,
   "metadata": {
    "collapsed": false
   },
   "outputs": [
    {
     "data": {
      "text/plain": [
       "2"
      ]
     },
     "execution_count": 3,
     "metadata": {},
     "output_type": "execute_result"
    }
   ],
   "source": [
    "\"atttccgg\".count(c => c == 'g')"
   ]
  },
  {
   "cell_type": "markdown",
   "metadata": {},
   "source": [
    "**Question 1:** Is the previous operation parallel, or is computed locally? Why?\n",
    "\n",
    "*Answer goes here*"
   ]
  },
  {
   "cell_type": "markdown",
   "metadata": {},
   "source": [
    "**Tip 2:** sums form different RDD records can be aggregated using the RDD *reduce* method. An example follows:"
   ]
  },
  {
   "cell_type": "code",
   "execution_count": 4,
   "metadata": {
    "collapsed": false
   },
   "outputs": [
    {
     "data": {
      "text/plain": [
       "10"
      ]
     },
     "execution_count": 4,
     "metadata": {},
     "output_type": "execute_result"
    }
   ],
   "source": [
    "val sumsRDD = sc.parallelize(Array(3,5,2))\n",
    "sumsRDD.reduce(_+_)"
   ]
  },
  {
   "cell_type": "markdown",
   "metadata": {},
   "source": [
    "### Your solution"
   ]
  },
  {
   "cell_type": "code",
   "execution_count": null,
   "metadata": {
    "collapsed": true,
    "deletable": true,
    "editable": true
   },
   "outputs": [],
   "source": [
    "// Implementation goes here"
   ]
  },
  {
   "cell_type": "markdown",
   "metadata": {},
   "source": [
    "**Question 2:** What is an RDD in Spark?\n",
    "\n",
    "*Answer goes here*\n",
    "\n",
    "**Question 3:** Is *reduce* a trasformation or an action? What are RDD transformations and RDD actions? How do they differ from each other?\n",
    "\n",
    "*Answer goes here*"
   ]
  }
 ],
 "metadata": {
  "kernelspec": {
   "display_name": "Apache Toree - Scala",
   "language": "scala",
   "name": "apache_toree_scala"
  },
  "language_info": {
   "file_extension": ".scala",
   "name": "scala",
   "version": "2.11.8"
  }
 },
 "nbformat": 4,
 "nbformat_minor": 2
}
